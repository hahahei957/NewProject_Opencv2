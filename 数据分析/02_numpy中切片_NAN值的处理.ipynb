{
 "cells": [
  {
   "cell_type": "code",
   "execution_count": 4,
   "metadata": {},
   "outputs": [],
   "source": [
    "import random\n",
    "import numpy as np"
   ]
  },
  {
   "cell_type": "code",
   "execution_count": 7,
   "metadata": {},
   "outputs": [
    {
     "name": "stdout",
     "output_type": "stream",
     "text": [
      "[[ 0  1  2  3]\n",
      " [ 4  5  6  7]\n",
      " [ 8  9 10 11]]\n"
     ]
    }
   ],
   "source": [
    "t1 = np.arange(12).reshape((3, 4)).astype(\"int8\")\n",
    "print(t1)"
   ]
  },
  {
   "cell_type": "code",
   "execution_count": 9,
   "metadata": {},
   "outputs": [
    {
     "name": "stdout",
     "output_type": "stream",
     "text": [
      "6\n"
     ]
    }
   ],
   "source": [
    "print(t1[1, 2])   # 取第二行3列"
   ]
  },
  {
   "cell_type": "code",
   "execution_count": 10,
   "metadata": {},
   "outputs": [
    {
     "name": "stdout",
     "output_type": "stream",
     "text": [
      "[1 5 9]\n"
     ]
    }
   ],
   "source": [
    "print(t1[:, 1])   # 取t1的第二列"
   ]
  },
  {
   "cell_type": "code",
   "execution_count": 16,
   "metadata": {},
   "outputs": [
    {
     "name": "stdout",
     "output_type": "stream",
     "text": [
      "[[ 0  1  2  3]\n",
      " [ 8  9 10 11]]\n"
     ]
    }
   ],
   "source": [
    "print(t1[[0, 2], :])  # 取t1的第1和第3行"
   ]
  },
  {
   "cell_type": "markdown",
   "metadata": {},
   "source": [
    "#####  三元运算符和裁剪函数"
   ]
  },
  {
   "cell_type": "code",
   "execution_count": 19,
   "metadata": {},
   "outputs": [
    {
     "name": "stdout",
     "output_type": "stream",
     "text": [
      "t3=[[0 1 2 3]\n",
      " [4 5 5 5]\n",
      " [5 5 5 5]]\n",
      "t3'=[[0 1 2 3]\n",
      " [4 5 5 5]\n",
      " [5 5 5 5]]\n"
     ]
    }
   ],
   "source": [
    "t3 = t1\n",
    "print(f\"t3={t3}\")\n",
    "t3[t3>5] = 5\n",
    "print(f\"t3'={t3}\")"
   ]
  },
  {
   "cell_type": "code",
   "execution_count": 21,
   "metadata": {},
   "outputs": [
    {
     "name": "stdout",
     "output_type": "stream",
     "text": [
      "t3=[[0 1 2 3]\n",
      " [4 5 5 5]\n",
      " [5 5 5 5]]\n",
      "[[100 100 100 100]\n",
      " [100 400 400 400]\n",
      " [400 400 400 400]]\n"
     ]
    }
   ],
   "source": [
    "print(f\"t3={t3}\")\n",
    "print(np.where(t3>4, 400, 100))    # 三元运算符"
   ]
  },
  {
   "cell_type": "code",
   "execution_count": 23,
   "metadata": {},
   "outputs": [
    {
     "name": "stdout",
     "output_type": "stream",
     "text": [
      "[[4 4 4 4]\n",
      " [4 5 5 5]\n",
      " [5 5 5 5]]\n"
     ]
    }
   ],
   "source": [
    "print(t3.clip(4, 6))       # 裁剪函数,小于4的替换为8，大于6的替换为16\n",
    "                           # 可以用来一个数据大于255的部分替换为255，小于0的替换为0"
   ]
  },
  {
   "cell_type": "markdown",
   "metadata": {},
   "source": [
    "##### 注意：我们只能让float类型的矩阵中的元素设置为空值，int类型的会报错"
   ]
  },
  {
   "cell_type": "code",
   "execution_count": 30,
   "metadata": {},
   "outputs": [
    {
     "name": "stdout",
     "output_type": "stream",
     "text": [
      "[[ 0.  1.  2.  3.]\n",
      " [ 4.  5. nan  5.]\n",
      " [ 5.  5.  5.  5.]]\n"
     ]
    }
   ],
   "source": [
    "t2 = t1.astype(\"float\")\n",
    "t2[1:2, 2:3] = np.nan   # 将几个数设置为空值\n",
    "print(t2)"
   ]
  },
  {
   "cell_type": "code",
   "execution_count": 31,
   "metadata": {},
   "outputs": [
    {
     "name": "stdout",
     "output_type": "stream",
     "text": [
      "[[False False False False]\n",
      " [False False  True False]\n",
      " [False False False False]]\n"
     ]
    }
   ],
   "source": [
    "print(np.isnan(t2))"
   ]
  },
  {
   "cell_type": "markdown",
   "metadata": {},
   "source": [
    "##### 将nan值替换为不会对数组产生影响的值"
   ]
  },
  {
   "cell_type": "code",
   "execution_count": 24,
   "metadata": {},
   "outputs": [
    {
     "name": "stdout",
     "output_type": "stream",
     "text": [
      "t2=[[ 0.  1.  2.  3.]\n",
      " [ 4.  5. nan  7.]\n",
      " [ 8.  9. 10. 11.]]\n",
      "t2'=[[ 0.  1.  2.  3.]\n",
      " [ 4.  5.  6.  7.]\n",
      " [ 8.  9. 10. 11.]]\n"
     ]
    }
   ],
   "source": [
    "def fill_ndarray(t):\n",
    "    for i in range(t.shape[1]):      # 每行中元素的数量\n",
    "        temp_col = t[:, i]           # 获取当前列的数据内容\n",
    "        # 函数np.count_nonzero用于统计矩阵中非0值得个数\n",
    "        # temp_col != temp_col的返回一个矩阵，矩阵中除了空值的位置，其他的位置都是布尔型的0\n",
    "        nan_num = np.count_nonzero(temp_col != temp_col)\n",
    "        if nan_num != 0:             # nan_num不为0说明该列数据中有nan值\n",
    "            temp_no_nan_col = temp_col[temp_col == temp_col]  # 获得当前列不为nan的位置\n",
    "            # 将nan值得位置附上该列的平均值\n",
    "            temp_col[temp_col!=temp_col] = temp_no_nan_col.mean()\n",
    "    return t\n",
    "print(f\"t2={t2}\")\n",
    "print(f\"t2'={fill_ndarray(t2)}\")"
   ]
  },
  {
   "cell_type": "markdown",
   "metadata": {},
   "source": [
    "##### 拼接函数"
   ]
  },
  {
   "cell_type": "code",
   "execution_count": 26,
   "metadata": {},
   "outputs": [
    {
     "name": "stdout",
     "output_type": "stream",
     "text": [
      "[[0 1 2 3]\n",
      " [4 5 5 5]\n",
      " [5 5 5 5]]\n"
     ]
    }
   ],
   "source": [
    "t4 = t1\n",
    "t5 = t1\n",
    "print(t4)"
   ]
  },
  {
   "cell_type": "code",
   "execution_count": 29,
   "metadata": {},
   "outputs": [
    {
     "name": "stdout",
     "output_type": "stream",
     "text": [
      "[[0 1 2 3 0 1 2 3]\n",
      " [4 5 5 5 4 5 5 5]\n",
      " [5 5 5 5 5 5 5 5]]\n",
      "[[0 1 2 3]\n",
      " [4 5 5 5]\n",
      " [5 5 5 5]\n",
      " [0 1 2 3]\n",
      " [4 5 5 5]\n",
      " [5 5 5 5]]\n"
     ]
    }
   ],
   "source": [
    "print(np.hstack((t4, t5)))  # 横向拼接\n",
    "print(np.vstack((t4, t5)))  # 纵向拼接"
   ]
  },
  {
   "cell_type": "code",
   "execution_count": 6,
   "metadata": {},
   "outputs": [
    {
     "name": "stdout",
     "output_type": "stream",
     "text": [
      "[[0.]\n",
      " [0.]\n",
      " [0.]\n",
      " ...\n",
      " [0.]\n",
      " [0.]\n",
      " [0.]]\n"
     ]
    }
   ],
   "source": [
    "rgbHist = np.zeros([16 * 16 * 16, 1], np.float32)\n",
    "print(rgbHist)"
   ]
  },
  {
   "cell_type": "code",
   "execution_count": null,
   "metadata": {},
   "outputs": [],
   "source": []
  }
 ],
 "metadata": {
  "kernelspec": {
   "display_name": "Python 3",
   "language": "python",
   "name": "python3"
  },
  "language_info": {
   "codemirror_mode": {
    "name": "ipython",
    "version": 3
   },
   "file_extension": ".py",
   "mimetype": "text/x-python",
   "name": "python",
   "nbconvert_exporter": "python",
   "pygments_lexer": "ipython3",
   "version": "3.7.4"
  }
 },
 "nbformat": 4,
 "nbformat_minor": 2
}
