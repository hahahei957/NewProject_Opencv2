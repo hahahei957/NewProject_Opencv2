{
 "cells": [
  {
   "cell_type": "code",
   "execution_count": 3,
   "metadata": {},
   "outputs": [],
   "source": [
    "import pandas as pd              # 140\n",
    "from matplotlib import pyplot as plt\n",
    "\n",
    "file_path = r\"D:\\Users\\acer\\Desktop\\所有的文件\\python资料\\课件资料\\1-6\\数据分析资料\\day05\\code\\\\starbucks_store_worldwide.csv\"\n",
    "df = pd.read_csv(file_path)"
   ]
  },
  {
   "cell_type": "code",
   "execution_count": 4,
   "metadata": {},
   "outputs": [
    {
     "name": "stdout",
     "output_type": "stream",
     "text": [
      "<class 'pandas.core.frame.DataFrame'>\n",
      "RangeIndex: 25600 entries, 0 to 25599\n",
      "Data columns (total 13 columns):\n",
      "Brand             25600 non-null object\n",
      "Store Number      25600 non-null object\n",
      "Store Name        25600 non-null object\n",
      "Ownership Type    25600 non-null object\n",
      "Street Address    25598 non-null object\n",
      "City              25585 non-null object\n",
      "State/Province    25600 non-null object\n",
      "Country           25600 non-null object\n",
      "Postcode          24078 non-null object\n",
      "Phone Number      18739 non-null object\n",
      "Timezone          25600 non-null object\n",
      "Longitude         25599 non-null float64\n",
      "Latitude          25599 non-null float64\n",
      "dtypes: float64(2), object(11)\n",
      "memory usage: 2.5+ MB\n",
      "None\n"
     ]
    }
   ],
   "source": [
    "print(df.info())"
   ]
  },
  {
   "cell_type": "code",
   "execution_count": 22,
   "metadata": {},
   "outputs": [
    {
     "name": "stdout",
     "output_type": "stream",
     "text": [
      "Country\n",
      "US    13608\n",
      "CN     2734\n",
      "CA     1468\n",
      "JP     1237\n",
      "KR      993\n",
      "GB      901\n",
      "MX      579\n",
      "TW      394\n",
      "TR      326\n",
      "PH      298\n",
      "Name: Brand, dtype: int64\n"
     ]
    }
   ],
   "source": [
    "#使用matplotlib呈现出店铺总数排名前10的国家\n",
    "#准备数据\n",
    "# ascending=False指定排序方式为倒叙\n",
    "# 用排序时必须将标签那一行给略去\n",
    "data1 = df.groupby(by=\"Country\").count()[\"Brand\"].sort_values(ascending=False)[:10]\n",
    "print(data1)"
   ]
  },
  {
   "cell_type": "code",
   "execution_count": 31,
   "metadata": {},
   "outputs": [
    {
     "data": {
      "text/plain": [
       "([<matplotlib.axis.XTick at 0x13740e4d248>,\n",
       "  <matplotlib.axis.XTick at 0x13740d9d408>,\n",
       "  <matplotlib.axis.XTick at 0x13741d95c88>,\n",
       "  <matplotlib.axis.XTick at 0x1374201e888>,\n",
       "  <matplotlib.axis.XTick at 0x1374201a408>,\n",
       "  <matplotlib.axis.XTick at 0x1374201ac08>,\n",
       "  <matplotlib.axis.XTick at 0x13742011708>,\n",
       "  <matplotlib.axis.XTick at 0x13742013508>,\n",
       "  <matplotlib.axis.XTick at 0x13742f36708>,\n",
       "  <matplotlib.axis.XTick at 0x13742f39648>],\n",
       " <a list of 10 Text xticklabel objects>)"
      ]
     },
     "execution_count": 31,
     "metadata": {},
     "output_type": "execute_result"
    },
    {
     "data": {
      "image/png": "[encoded data removed]",
      "text/plain": [
       "<Figure size 432x288 with 1 Axes>"
      ]
     },
     "metadata": {
      "needs_background": "light"
     },
     "output_type": "display_data"
    }
   ],
   "source": [
    "# 绘制图像\n",
    "# 关于x轴和y轴的赋值这个地方多看看\n",
    "_x = data1.index\n",
    "_y = data1.values\n",
    "\n",
    "plt.bar(range(len(_x)),_y, color=\"#76EE00\")\n",
    "plt.grid(alpha=0.5, color=\"#AFEEEE\")\n",
    "plt.xticks(range(len(_x)), _x, rotation=45)"
   ]
  },
  {
   "cell_type": "code",
   "execution_count": null,
   "metadata": {},
   "outputs": [],
   "source": []
  }
 ],
 "metadata": {
  "kernelspec": {
   "display_name": "Python 3",
   "language": "python",
   "name": "python3"
  },
  "language_info": {
   "codemirror_mode": {
    "name": "ipython",
    "version": 3
   },
   "file_extension": ".py",
   "mimetype": "text/x-python",
   "name": "python",
   "nbconvert_exporter": "python",
   "pygments_lexer": "ipython3",
   "version": "3.7.4"
  }
 },
 "nbformat": 4,
 "nbformat_minor": 2
}
