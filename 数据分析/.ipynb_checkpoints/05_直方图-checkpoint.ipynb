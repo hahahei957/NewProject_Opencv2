{
 "cells": [
  {
   "cell_type": "code",
   "execution_count": 13,
   "metadata": {},
   "outputs": [],
   "source": [
    "import pandas as pd\n",
    "import numpy as np\n",
    "from matplotlib import pyplot as plt\n",
    "# pandas生成的就是dataframe而numpy生成的是矩阵\n",
    "file_path = r\"D:\\Users\\acer\\Desktop\\所有的文件\\python资料\\课件资料\\1-6\\数据分析资料\\day05\\code\\IMDB-Movie-Data.csv\""
   ]
  },
  {
   "cell_type": "code",
   "execution_count": 4,
   "metadata": {},
   "outputs": [],
   "source": [
    "# pandas生成的就是dataframe而numpy生成的是矩阵\n",
    "df = pd.read_csv(file_path)"
   ]
  },
  {
   "cell_type": "code",
   "execution_count": 5,
   "metadata": {},
   "outputs": [
    {
     "name": "stdout",
     "output_type": "stream",
     "text": [
      "   Rank                    Title                     Genre  \\\n",
      "0     1  Guardians of the Galaxy   Action,Adventure,Sci-Fi   \n",
      "1     2               Prometheus  Adventure,Mystery,Sci-Fi   \n",
      "2     3                    Split           Horror,Thriller   \n",
      "\n",
      "                                         Description            Director  \\\n",
      "0  A group of intergalactic criminals are forced ...          James Gunn   \n",
      "1  Following clues to the origin of mankind, a te...        Ridley Scott   \n",
      "2  Three girls are kidnapped by a man with a diag...  M. Night Shyamalan   \n",
      "\n",
      "                                              Actors  Year  Runtime (Minutes)  \\\n",
      "0  Chris Pratt, Vin Diesel, Bradley Cooper, Zoe S...  2014                121   \n",
      "1  Noomi Rapace, Logan Marshall-Green, Michael Fa...  2012                124   \n",
      "2  James McAvoy, Anya Taylor-Joy, Haley Lu Richar...  2016                117   \n",
      "\n",
      "   Rating   Votes  Revenue (Millions)  Metascore  \n",
      "0     8.1  757074              333.13       76.0  \n",
      "1     7.0  485820              126.46       65.0  \n",
      "2     7.3  157606              138.12       62.0  \n"
     ]
    }
   ],
   "source": [
    "print(df.head(3))    # 显示三行的数据，因为每行数据量太大，所以通过\\来分成多行显示"
   ]
  },
  {
   "cell_type": "code",
   "execution_count": 6,
   "metadata": {
    "collapsed": true
   },
   "outputs": [
    {
     "name": "stdout",
     "output_type": "stream",
     "text": [
      "<class 'pandas.core.frame.DataFrame'>\n",
      "RangeIndex: 1000 entries, 0 to 999\n",
      "Data columns (total 12 columns):\n",
      "Rank                  1000 non-null int64\n",
      "Title                 1000 non-null object\n",
      "Genre                 1000 non-null object\n",
      "Description           1000 non-null object\n",
      "Director              1000 non-null object\n",
      "Actors                1000 non-null object\n",
      "Year                  1000 non-null int64\n",
      "Runtime (Minutes)     1000 non-null int64\n",
      "Rating                1000 non-null float64\n",
      "Votes                 1000 non-null int64\n",
      "Revenue (Millions)    872 non-null float64\n",
      "Metascore             936 non-null float64\n",
      "dtypes: float64(3), int64(4), object(5)\n",
      "memory usage: 93.9+ KB\n",
      "None\n"
     ]
    }
   ],
   "source": [
    "print(df.info())"
   ]
  },
  {
   "cell_type": "code",
   "execution_count": 12,
   "metadata": {},
   "outputs": [
    {
     "name": "stdout",
     "output_type": "stream",
     "text": [
      "[121 124 117 108 123 103 128  89 141 116]\n"
     ]
    }
   ],
   "source": [
    "#rating,runtime分布情况\n",
    "#选择图形，直方图\n",
    "#准备数据\n",
    "runtime_data = df[\"Runtime (Minutes)\"].values    \n",
    "# 取标签为Rating的那一列的数据(此时为series数组类型,因为pandas中都是一维二维数组啥的)，通过.value转化为np.array类型(多维数组)\n",
    "print(runtime_data[:10])   # 数据量太大了，我们取前十个的数据看看，因为对象是一个array类型（我看着和列表挺像的），我以我们切片\n",
    "max_runtime = runtime_data.max()\n",
    "min_runtime = runtime_data.min()"
   ]
  },
  {
   "cell_type": "code",
   "execution_count": 15,
   "metadata": {},
   "outputs": [
    {
     "name": "stdout",
     "output_type": "stream",
     "text": [
      "[0 1 2 3 4 5 6 7 8 9]\n"
     ]
    }
   ],
   "source": [
    "print(np.array(range(10)))"
   ]
  },
  {
   "cell_type": "code",
   "execution_count": 16,
   "metadata": {},
   "outputs": [
    {
     "name": "stdout",
     "output_type": "stream",
     "text": [
      "125\n"
     ]
    }
   ],
   "source": [
    "# 计算组数\n",
    "print(max_runtime-min_runtime)\n",
    "num_bin = (max_runtime-min_runtime)//1"
   ]
  },
  {
   "cell_type": "code",
   "execution_count": 31,
   "metadata": {},
   "outputs": [
    {
     "name": "stdout",
     "output_type": "stream",
     "text": [
      "[66, 68, 70, 72, 74, 76, 78, 80, 82, 84]\n"
     ]
    },
    {
     "data": {
      "image/png": "[encoded data removed]",
      "text/plain": [
       "<Figure size 1600x640 with 1 Axes>"
      ]
     },
     "metadata": {
      "needs_background": "light"
     },
     "output_type": "display_data"
    }
   ],
   "source": [
    "# 绘制直方图\n",
    "plt.figure(figsize=(20, 8), dpi=80)\n",
    "plt.hist(runtime_data, num_bin)\n",
    "# 设置x轴坐标\n",
    "_x = []\n",
    "for i in range(min_runtime, max_runtime+1,2):\n",
    "    _x.append(i)\n",
    "print(_x[:10])\n",
    "# 设置x轴坐标\n",
    "plt.xticks(_x)                   # 绘制图像的几句话要放在一起，否则后面对于图像的处理将不会用这个图像\n",
    "plt.grid()                 # 绘制网格线"
   ]
  },
  {
   "cell_type": "code",
   "execution_count": 32,
   "metadata": {
    "collapsed": true
   },
   "outputs": [
    {
     "data": {
      "text/plain": [
       "([<matplotlib.axis.XTick at 0x213618959c8>,\n",
       "  <matplotlib.axis.XTick at 0x2136186ef88>,\n",
       "  <matplotlib.axis.XTick at 0x213618827c8>,\n",
       "  <matplotlib.axis.XTick at 0x2135dd914c8>,\n",
       "  <matplotlib.axis.XTick at 0x2135e4e43c8>,\n",
       "  <matplotlib.axis.XTick at 0x2135e383048>,\n",
       "  <matplotlib.axis.XTick at 0x2135e3868c8>,\n",
       "  <matplotlib.axis.XTick at 0x2136186e588>,\n",
       "  <matplotlib.axis.XTick at 0x21361879c88>,\n",
       "  <matplotlib.axis.XTick at 0x21361888408>,\n",
       "  <matplotlib.axis.XTick at 0x21361a74cc8>,\n",
       "  <matplotlib.axis.XTick at 0x21361a744c8>,\n",
       "  <matplotlib.axis.XTick at 0x2136169dbc8>,\n",
       "  <matplotlib.axis.XTick at 0x21361795b08>,\n",
       "  <matplotlib.axis.XTick at 0x21361795fc8>,\n",
       "  <matplotlib.axis.XTick at 0x21361654788>,\n",
       "  <matplotlib.axis.XTick at 0x21361a74388>,\n",
       "  <matplotlib.axis.XTick at 0x21361888e48>,\n",
       "  <matplotlib.axis.XTick at 0x2136174bc48>,\n",
       "  <matplotlib.axis.XTick at 0x213617ac488>,\n",
       "  <matplotlib.axis.XTick at 0x2136181a388>,\n",
       "  <matplotlib.axis.XTick at 0x21361799648>,\n",
       "  <matplotlib.axis.XTick at 0x213617c6388>,\n",
       "  <matplotlib.axis.XTick at 0x21361841048>,\n",
       "  <matplotlib.axis.XTick at 0x21361841ac8>,\n",
       "  <matplotlib.axis.XTick at 0x2136183a248>,\n",
       "  <matplotlib.axis.XTick at 0x213617c6248>,\n",
       "  <matplotlib.axis.XTick at 0x2136179e308>,\n",
       "  <matplotlib.axis.XTick at 0x2136179e088>,\n",
       "  <matplotlib.axis.XTick at 0x213617e1b88>,\n",
       "  <matplotlib.axis.XTick at 0x213617e1388>,\n",
       "  <matplotlib.axis.XTick at 0x213617d6c48>,\n",
       "  <matplotlib.axis.XTick at 0x213617e8508>,\n",
       "  <matplotlib.axis.XTick at 0x2136181f548>,\n",
       "  <matplotlib.axis.XTick at 0x2136181ff88>,\n",
       "  <matplotlib.axis.XTick at 0x213617e1f08>,\n",
       "  <matplotlib.axis.XTick at 0x2136179eec8>,\n",
       "  <matplotlib.axis.XTick at 0x21361849b48>,\n",
       "  <matplotlib.axis.XTick at 0x21361849748>,\n",
       "  <matplotlib.axis.XTick at 0x213617f2788>,\n",
       "  <matplotlib.axis.XTick at 0x213617e5748>,\n",
       "  <matplotlib.axis.XTick at 0x213617e5208>,\n",
       "  <matplotlib.axis.XTick at 0x213617edb08>,\n",
       "  <matplotlib.axis.XTick at 0x213617fa9c8>,\n",
       "  <matplotlib.axis.XTick at 0x21361857d88>,\n",
       "  <matplotlib.axis.XTick at 0x213617ed708>,\n",
       "  <matplotlib.axis.XTick at 0x21361857908>,\n",
       "  <matplotlib.axis.XTick at 0x21361829b08>,\n",
       "  <matplotlib.axis.XTick at 0x2136185fb48>,\n",
       "  <matplotlib.axis.XTick at 0x21361814a08>,\n",
       "  <matplotlib.axis.XTick at 0x21361814488>,\n",
       "  <matplotlib.axis.XTick at 0x213617fea08>,\n",
       "  <matplotlib.axis.XTick at 0x21361831c48>,\n",
       "  <matplotlib.axis.XTick at 0x21361867648>,\n",
       "  <matplotlib.axis.XTick at 0x213617fe0c8>,\n",
       "  <matplotlib.axis.XTick at 0x21361829d08>,\n",
       "  <matplotlib.axis.XTick at 0x213618014c8>,\n",
       "  <matplotlib.axis.XTick at 0x2136180ce08>,\n",
       "  <matplotlib.axis.XTick at 0x2136180ce88>,\n",
       "  <matplotlib.axis.XTick at 0x2136180f5c8>,\n",
       "  <matplotlib.axis.XTick at 0x21361805d88>,\n",
       "  <matplotlib.axis.XTick at 0x21361805b08>,\n",
       "  <matplotlib.axis.XTick at 0x21361a78888>],\n",
       " <a list of 63 Text xticklabel objects>)"
      ]
     },
     "execution_count": 32,
     "metadata": {},
     "output_type": "execute_result"
    },
    {
     "data": {
      "image/png": "[encoded data removed]",
      "text/plain": [
       "<Figure size 432x288 with 1 Axes>"
      ]
     },
     "metadata": {
      "needs_background": "light"
     },
     "output_type": "display_data"
    }
   ],
   "source": [
    "# 下面这句是示范用的\n",
    "plt.xticks(_x)                   # 绘制图像的几句话要放在一起，否则后面对于图像的处理将不会用这个图像"
   ]
  },
  {
   "cell_type": "code",
   "execution_count": 51,
   "metadata": {},
   "outputs": [
    {
     "name": "stdout",
     "output_type": "stream",
     "text": [
      "1\n"
     ]
    }
   ],
   "source": [
    "num_1 = [runtime_data==min_runtime]\n",
    "i = np.sum(num_1)\n",
    "print(i)"
   ]
  },
  {
   "cell_type": "code",
   "execution_count": null,
   "metadata": {},
   "outputs": [],
   "source": []
  },
  {
   "cell_type": "code",
   "execution_count": null,
   "metadata": {},
   "outputs": [],
   "source": []
  },
  {
   "cell_type": "code",
   "execution_count": null,
   "metadata": {},
   "outputs": [],
   "source": []
  }
 ],
 "metadata": {
  "kernelspec": {
   "display_name": "Python 3",
   "language": "python",
   "name": "python3"
  },
  "language_info": {
   "codemirror_mode": {
    "name": "ipython",
    "version": 3
   },
   "file_extension": ".py",
   "mimetype": "text/x-python",
   "name": "python",
   "nbconvert_exporter": "python",
   "pygments_lexer": "ipython3",
   "version": "3.7.4"
  }
 },
 "nbformat": 4,
 "nbformat_minor": 2
}
