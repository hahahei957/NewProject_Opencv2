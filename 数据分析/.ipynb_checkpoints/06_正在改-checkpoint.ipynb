{
 "cells": [
  {
   "cell_type": "code",
   "execution_count": 15,
   "metadata": {},
   "outputs": [],
   "source": [
    "import random\n",
    "from matplotlib import pyplot as plt\n",
    "import pandas as pd\n",
    "import numpy as np\n",
    "# pandas生成的就是dataframe而numpy生成的是矩阵\n",
    "file_path = r\"D:\\Users\\acer\\Desktop\\所有的文件\\python资料\\课件资料\\1-6\\数据分析资料\\day05\\code\\IMDB-Movie-Data.csv\""
   ]
  },
  {
   "cell_type": "code",
   "execution_count": 5,
   "metadata": {},
   "outputs": [
    {
     "name": "stdout",
     "output_type": "stream",
     "text": [
      "0     Action,Adventure,Sci-Fi\n",
      "1    Adventure,Mystery,Sci-Fi\n",
      "2             Horror,Thriller\n",
      "Name: Genre, dtype: object\n"
     ]
    }
   ],
   "source": [
    "# pandas生成的就是dataframe而numpy生成的是矩阵\n",
    "df = pd.read_csv(file_path)\n",
    "# 统计分类的列表\n",
    "print(df['Genre'].head(3))"
   ]
  },
  {
   "cell_type": "code",
   "execution_count": 9,
   "metadata": {
    "scrolled": true
   },
   "outputs": [
    {
     "name": "stdout",
     "output_type": "stream",
     "text": [
      "<pandas.core.strings.StringMethods object at 0x00000192F0AA7508>\n",
      "0       [Action, Adventure, Sci-Fi]\n",
      "1      [Adventure, Mystery, Sci-Fi]\n",
      "2                [Horror, Thriller]\n",
      "3       [Animation, Comedy, Family]\n",
      "4      [Action, Adventure, Fantasy]\n",
      "                   ...             \n",
      "995         [Crime, Drama, Mystery]\n",
      "996                        [Horror]\n",
      "997         [Drama, Music, Romance]\n",
      "998             [Adventure, Comedy]\n",
      "999       [Comedy, Family, Fantasy]\n",
      "Name: Genre, Length: 1000, dtype: object\n"
     ]
    }
   ],
   "source": [
    "print(df['Genre'].str)\n",
    "print(df['Genre'].str.split(','))\n",
    "# 将padans读出来的二维数组的电影类型列提取出来弄成[[],[],[]]的形式\n",
    "temp_list = df['Genre'].str.split(',').tolist()     "
   ]
  },
  {
   "cell_type": "code",
   "execution_count": 13,
   "metadata": {},
   "outputs": [
    {
     "name": "stdout",
     "output_type": "stream",
     "text": [
      "['Mystery', 'Music', 'Horror', 'History', 'Sport', 'Romance', 'Family', 'Comedy', 'Drama', 'Animation', 'Adventure', 'Crime', 'Thriller', 'Action', 'Sci-Fi', 'Biography', 'Fantasy', 'Western', 'Musical', 'War']\n"
     ]
    }
   ],
   "source": [
    "# 通过set函数实现去重，因为集合中是没有重复项的， 所以用set之后，列表会变成集合，重复项剔除\n",
    "# 拥有两次循环的列表生成器\n",
    "genre_list = list(set([i for j in temp_list for i in j]))  # genre_lsit ==> 横向标签\n",
    "print(genre_list)"
   ]
  },
  {
   "cell_type": "code",
   "execution_count": 19,
   "metadata": {},
   "outputs": [
    {
     "name": "stdout",
     "output_type": "stream",
     "text": [
      "     Mystery  Music  Horror  History  Sport  Romance  Family  Comedy  Drama  \\\n",
      "0        0.0    0.0     0.0      0.0    0.0      0.0     0.0     0.0    0.0   \n",
      "1        0.0    0.0     0.0      0.0    0.0      0.0     0.0     0.0    0.0   \n",
      "2        0.0    0.0     0.0      0.0    0.0      0.0     0.0     0.0    0.0   \n",
      "3        0.0    0.0     0.0      0.0    0.0      0.0     0.0     0.0    0.0   \n",
      "4        0.0    0.0     0.0      0.0    0.0      0.0     0.0     0.0    0.0   \n",
      "..       ...    ...     ...      ...    ...      ...     ...     ...    ...   \n",
      "995      0.0    0.0     0.0      0.0    0.0      0.0     0.0     0.0    0.0   \n",
      "996      0.0    0.0     0.0      0.0    0.0      0.0     0.0     0.0    0.0   \n",
      "997      0.0    0.0     0.0      0.0    0.0      0.0     0.0     0.0    0.0   \n",
      "998      0.0    0.0     0.0      0.0    0.0      0.0     0.0     0.0    0.0   \n",
      "999      0.0    0.0     0.0      0.0    0.0      0.0     0.0     0.0    0.0   \n",
      "\n",
      "     Animation  Adventure  Crime  Thriller  Action  Sci-Fi  Biography  \\\n",
      "0          0.0        0.0    0.0       0.0     0.0     0.0        0.0   \n",
      "1          0.0        0.0    0.0       0.0     0.0     0.0        0.0   \n",
      "2          0.0        0.0    0.0       0.0     0.0     0.0        0.0   \n",
      "3          0.0        0.0    0.0       0.0     0.0     0.0        0.0   \n",
      "4          0.0        0.0    0.0       0.0     0.0     0.0        0.0   \n",
      "..         ...        ...    ...       ...     ...     ...        ...   \n",
      "995        0.0        0.0    0.0       0.0     0.0     0.0        0.0   \n",
      "996        0.0        0.0    0.0       0.0     0.0     0.0        0.0   \n",
      "997        0.0        0.0    0.0       0.0     0.0     0.0        0.0   \n",
      "998        0.0        0.0    0.0       0.0     0.0     0.0        0.0   \n",
      "999        0.0        0.0    0.0       0.0     0.0     0.0        0.0   \n",
      "\n",
      "     Fantasy  Western  Musical  War  \n",
      "0        0.0      0.0      0.0  0.0  \n",
      "1        0.0      0.0      0.0  0.0  \n",
      "2        0.0      0.0      0.0  0.0  \n",
      "3        0.0      0.0      0.0  0.0  \n",
      "4        0.0      0.0      0.0  0.0  \n",
      "..       ...      ...      ...  ...  \n",
      "995      0.0      0.0      0.0  0.0  \n",
      "996      0.0      0.0      0.0  0.0  \n",
      "997      0.0      0.0      0.0  0.0  \n",
      "998      0.0      0.0      0.0  0.0  \n",
      "999      0.0      0.0      0.0  0.0  \n",
      "\n",
      "[1000 rows x 20 columns]\n"
     ]
    }
   ],
   "source": [
    "# 构件全为零的数组，\n",
    "# 先用numpy制作一个零矩阵，再将其变成pandas类型，也就是dataframe\n",
    "zeros_df = pd.DataFrame(np.zeros((df.shape[0], len(genre_list))),columns=genre_list)# columns指定列标签\n",
    "print(zeros_df)"
   ]
  },
  {
   "cell_type": "code",
   "execution_count": null,
   "metadata": {},
   "outputs": [],
   "source": [
    "#给每个电影出现分类的位置赋值1"
   ]
  }
 ],
 "metadata": {
  "kernelspec": {
   "display_name": "Python 3",
   "language": "python",
   "name": "python3"
  },
  "language_info": {
   "codemirror_mode": {
    "name": "ipython",
    "version": 3
   },
   "file_extension": ".py",
   "mimetype": "text/x-python",
   "name": "python",
   "nbconvert_exporter": "python",
   "pygments_lexer": "ipython3",
   "version": "3.7.4"
  }
 },
 "nbformat": 4,
 "nbformat_minor": 2
}
