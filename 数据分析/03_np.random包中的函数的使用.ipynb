{
 "cells": [
  {
   "cell_type": "code",
   "execution_count": 4,
   "metadata": {},
   "outputs": [],
   "source": [
    "import numpy as np\n",
    "import random"
   ]
  },
  {
   "cell_type": "markdown",
   "metadata": {},
   "source": [
    "#### 生成3行四列的矩阵 成员均为小于1的浮点数"
   ]
  },
  {
   "cell_type": "code",
   "execution_count": 5,
   "metadata": {},
   "outputs": [
    {
     "name": "stdout",
     "output_type": "stream",
     "text": [
      "[[0.57833031 0.73701163 0.32812234 0.91425921]\n",
      " [0.08109021 0.39275579 0.57483006 0.51355554]\n",
      " [0.11194807 0.47966683 0.34004904 0.13005697]]\n"
     ]
    }
   ],
   "source": [
    "print(np.random.rand(3, 4)) "
   ]
  },
  {
   "cell_type": "markdown",
   "metadata": {},
   "source": [
    "#### 生成标准正态"
   ]
  },
  {
   "cell_type": "code",
   "execution_count": 7,
   "metadata": {},
   "outputs": [
    {
     "name": "stdout",
     "output_type": "stream",
     "text": [
      "[[-1.06010856  1.92822607  1.24059584 -1.62871088]\n",
      " [ 2.04776306  1.32539419 -0.22879345  1.12942424]\n",
      " [-0.69046201  0.8718851  -1.21691757 -0.77195263]]\n"
     ]
    }
   ],
   "source": [
    "print(np.random.randn(3, 4))"
   ]
  },
  {
   "cell_type": "markdown",
   "metadata": {},
   "source": [
    "#### 生成成员为整数的随机矩阵"
   ]
  },
  {
   "cell_type": "code",
   "execution_count": 8,
   "metadata": {},
   "outputs": [
    {
     "name": "stdout",
     "output_type": "stream",
     "text": [
      "[[5 7 1 2]\n",
      " [1 9 2 1]\n",
      " [1 7 5 9]]\n"
     ]
    }
   ],
   "source": [
    "print(np.random.randint(1, 10,(3, 4)))     # 生成矩阵为3行4列，成员范围在1到10之间"
   ]
  },
  {
   "cell_type": "markdown",
   "metadata": {},
   "source": [
    "#### 生成成员为浮点数的随机矩阵"
   ]
  },
  {
   "cell_type": "code",
   "execution_count": 9,
   "metadata": {},
   "outputs": [
    {
     "name": "stdout",
     "output_type": "stream",
     "text": [
      "[[7.3083337  5.10882347 7.30165303 8.27722664]\n",
      " [8.50849969 6.02490307 3.86107474 2.35165099]\n",
      " [1.54086043 7.12621813 3.16271859 4.421748  ]]\n"
     ]
    }
   ],
   "source": [
    "print(np.random.uniform(1, 10, (3, 4))) "
   ]
  },
  {
   "cell_type": "code",
   "execution_count": 24,
   "metadata": {},
   "outputs": [
    {
     "name": "stdout",
     "output_type": "stream",
     "text": [
      "[[7.94188579 1.18676754 6.70283411 7.73923494]\n",
      " [5.48656311 3.02316981 2.78256578 7.84477641]\n",
      " [2.52199753 1.79505833 7.16823837 9.58054012]]\n"
     ]
    }
   ],
   "source": [
    "np.random.seed(10)\n",
    "t = np.random.uniform(1, 10, (3, 4))    # 通过.seed函数使得t每次生成的随机数都是这一组\n",
    "print(t)"
   ]
  },
  {
   "cell_type": "code",
   "execution_count": null,
   "metadata": {},
   "outputs": [],
   "source": []
  },
  {
   "cell_type": "code",
   "execution_count": null,
   "metadata": {},
   "outputs": [],
   "source": []
  },
  {
   "cell_type": "code",
   "execution_count": null,
   "metadata": {},
   "outputs": [],
   "source": []
  },
  {
   "cell_type": "code",
   "execution_count": null,
   "metadata": {},
   "outputs": [],
   "source": []
  }
 ],
 "metadata": {
  "kernelspec": {
   "display_name": "Python 3",
   "language": "python",
   "name": "python3"
  },
  "language_info": {
   "codemirror_mode": {
    "name": "ipython",
    "version": 3
   },
   "file_extension": ".py",
   "mimetype": "text/x-python",
   "name": "python",
   "nbconvert_exporter": "python",
   "pygments_lexer": "ipython3",
   "version": "3.7.4"
  }
 },
 "nbformat": 4,
 "nbformat_minor": 2
}
