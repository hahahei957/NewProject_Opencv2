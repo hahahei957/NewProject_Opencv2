{
 "cells": [
  {
   "cell_type": "code",
   "execution_count": 34,
   "metadata": {},
   "outputs": [],
   "source": [
    "import numpy as np\n",
    "import math"
   ]
  },
  {
   "cell_type": "code",
   "execution_count": 5,
   "metadata": {},
   "outputs": [
    {
     "name": "stdout",
     "output_type": "stream",
     "text": [
      "<class 'numpy.ndarray'>\n"
     ]
    }
   ],
   "source": [
    "# #创建二维数组\n",
    "data = [[1,2,3],[4,5,6]]\n",
    "arr = np.array(data)\n",
    "print(type(arr))"
   ]
  },
  {
   "cell_type": "code",
   "execution_count": 8,
   "metadata": {},
   "outputs": [
    {
     "name": "stdout",
     "output_type": "stream",
     "text": [
      "[6.23042070e-307 1.42417221e-306 7.56595733e-307 3.33776697e-307\n",
      " 1.60216183e-306 8.45596650e-307 1.42415456e-306 1.95819945e-306\n",
      " 1.39178415e+087 8.34420522e-308]\n",
      "[0. 0. 0. 0. 0. 0. 0. 0. 0. 0.]\n",
      "[[5. 5. 5.]\n",
      " [5. 5. 5.]]\n"
     ]
    }
   ],
   "source": [
    "# 创建一个大小为10的空向量\n",
    "# np.empty 构造一个大小为 shape 的未初始化数组,\n",
    "# np.zeros 构造一个大小为 shape 的全0数组,\n",
    "# np.ones 构造一个大小为 shape 的全1数组,\n",
    "# np.ones 构造一个大小为 shape 的全1数组,\n",
    "# np.full 构造一个大小为 shape 的用指定值填满的数组,\n",
    "#\n",
    "print(np.empty(10))  # 感觉里面的元素是随机生成的。\n",
    "                     # 所以使用的时候要小心。需要手工把每一个值重新定义，否则该值是一个随机数，调试起来会比较麻烦。\n",
    "print(np.zeros(10))\n",
    "print(np.full((2,3),5.0))"
   ]
  },
  {
   "cell_type": "code",
   "execution_count": 9,
   "metadata": {},
   "outputs": [
    {
     "name": "stdout",
     "output_type": "stream",
     "text": [
      "24\n"
     ]
    }
   ],
   "source": [
    "# 查看数组占用内存大小\n",
    "# hint 每个元素点用内存大小乘以元素个数\n",
    "sample4_1 = np.empty((2,3), np.uint32)\n",
    "print(sample4_1.itemsize*sample4_1.size)"
   ]
  },
  {
   "cell_type": "code",
   "execution_count": 11,
   "metadata": {
    "collapsed": true
   },
   "outputs": [
    {
     "name": "stdout",
     "output_type": "stream",
     "text": [
      "add(x1, x2, /, out=None, *, where=True, casting='same_kind', order='K', dtype=None, subok=True[, signature, extobj])\n",
      "\n",
      "Add arguments element-wise.\n",
      "\n",
      "Parameters\n",
      "----------\n",
      "x1, x2 : array_like\n",
      "    The arrays to be added.  If ``x1.shape != x2.shape``, they must be\n",
      "    broadcastable to a common shape (which may be the shape of one or\n",
      "    the other).\n",
      "out : ndarray, None, or tuple of ndarray and None, optional\n",
      "    A location into which the result is stored. If provided, it must have\n",
      "    a shape that the inputs broadcast to. If not provided or `None`,\n",
      "    a freshly-allocated array is returned. A tuple (possible only as a\n",
      "    keyword argument) must have length equal to the number of outputs.\n",
      "where : array_like, optional\n",
      "    Values of True indicate to calculate the ufunc at that position, values\n",
      "    of False indicate to leave the value in the output alone.\n",
      "**kwargs\n",
      "    For other keyword-only arguments, see the\n",
      "    :ref:`ufunc docs <ufuncs.kwargs>`.\n",
      "\n",
      "Returns\n",
      "-------\n",
      "add : ndarray or scalar\n",
      "    The sum of `x1` and `x2`, element-wise.\n",
      "    This is a scalar if both `x1` and `x2` are scalars.\n",
      "\n",
      "Notes\n",
      "-----\n",
      "Equivalent to `x1` + `x2` in terms of array broadcasting.\n",
      "\n",
      "Examples\n",
      "--------\n",
      ">>> np.add(1.0, 4.0)\n",
      "5.0\n",
      ">>> x1 = np.arange(9.0).reshape((3, 3))\n",
      ">>> x2 = np.arange(3.0)\n",
      ">>> np.add(x1, x2)\n",
      "array([[  0.,   2.,   4.],\n",
      "       [  3.,   5.,   7.],\n",
      "       [  6.,   8.,  10.]])\n"
     ]
    }
   ],
   "source": [
    "# hint 使用 np.info函数可以查询函数，类，模块的文档\n",
    "np.info(np.add)"
   ]
  },
  {
   "cell_type": "code",
   "execution_count": 15,
   "metadata": {},
   "outputs": [
    {
     "data": {
      "text/plain": [
       "array([[0, 1, 2],\n",
       "       [3, 4, 5],\n",
       "       [6, 7, 8]])"
      ]
     },
     "execution_count": 15,
     "metadata": {},
     "output_type": "execute_result"
    }
   ],
   "source": [
    "# 用0-8这9个数构造一个3x3大小的矩阵\n",
    "np.array(np.arange(9).reshape(3,3))"
   ]
  },
  {
   "cell_type": "code",
   "execution_count": 16,
   "metadata": {},
   "outputs": [
    {
     "data": {
      "text/plain": [
       "(array([0, 1, 2, 5, 6, 7], dtype=int64),)"
      ]
     },
     "execution_count": 16,
     "metadata": {},
     "output_type": "execute_result"
    }
   ],
   "source": [
    "# 从数组[1,2,0,0,4,0]中找出非0元素的下标\n",
    "np.nonzero([1,2,3,0,0,1,2,2])"
   ]
  },
  {
   "cell_type": "code",
   "execution_count": 18,
   "metadata": {},
   "outputs": [
    {
     "name": "stdout",
     "output_type": "stream",
     "text": [
      "[[1. 0. 0.]\n",
      " [0. 1. 0.]\n",
      " [0. 0. 1.]]\n"
     ]
    }
   ],
   "source": [
    "print(np.eye(3,3))  #默认第一个和第二个参数相等，第三个参数为对角线位置"
   ]
  },
  {
   "cell_type": "markdown",
   "metadata": {},
   "source": [
    "#### sample_1就相当于numpy创建出来的对象，所以Numpy中拥有的方法，直接用sample_1.的形式也可以调用类方法"
   ]
  },
  {
   "cell_type": "code",
   "execution_count": 22,
   "metadata": {},
   "outputs": [
    {
     "name": "stdout",
     "output_type": "stream",
     "text": [
      "<class 'numpy.ndarray'>\n",
      "[[0.02643317 0.37174429 0.45716747 0.91981982 0.98207794 0.48491557\n",
      "  0.53860001 0.1998808  0.53834438 0.28207999]\n",
      " [0.70742453 0.43022133 0.09716766 0.46159149 0.72547122 0.49053557\n",
      "  0.31194409 0.80107285 0.49262478 0.86663073]\n",
      " [0.89440517 0.4243199  0.44371719 0.70617053 0.3901452  0.06272022\n",
      "  0.01049752 0.12939289 0.73241329 0.2272233 ]\n",
      " [0.94804673 0.99866593 0.40923699 0.55834004 0.34145147 0.03358111\n",
      "  0.63778381 0.13484459 0.64260178 0.07292166]\n",
      " [0.14933067 0.39960386 0.50086087 0.83863009 0.4602941  0.96559694\n",
      "  0.88442252 0.83601666 0.97107352 0.5426123 ]\n",
      " [0.15252341 0.88475193 0.58817843 0.78756066 0.51303062 0.99415744\n",
      "  0.64024246 0.9317302  0.63106858 0.65211171]\n",
      " [0.41326134 0.04302947 0.17084661 0.84400127 0.53086767 0.70460029\n",
      "  0.39251324 0.80557338 0.23887352 0.54871001]\n",
      " [0.11907668 0.83905247 0.97110466 0.2342659  0.70467536 0.49943357\n",
      "  0.84739751 0.8323826  0.86597708 0.40530181]\n",
      " [0.81438903 0.72599684 0.81067921 0.50832748 0.53897289 0.76385604\n",
      "  0.57498832 0.42106391 0.01073436 0.90722082]\n",
      " [0.83182047 0.64091319 0.92603544 0.17434919 0.2318777  0.95266712\n",
      "  0.97021163 0.34860293 0.66293332 0.66935116]]\n",
      "0.9986659312921274 0.01049751702627244\n",
      "0.9986659312921274 0.01049751702627244\n"
     ]
    }
   ],
   "source": [
    "# sample_1就相当于numpy创建出来的对象，所以Numpy中拥有的方法，直接用sample_1.的形式也可以调用类方法\n",
    "sample_1 = np.random.random((10,10))\n",
    "print(type(sample_1))\n",
    "print(sample_1)\n",
    "# 下面两种调用方法的方式都是可以的，一个是对象调用方法，另一个是调用库中的函数\n",
    "print(sample_1.max(),sample_1.min())\n",
    "print(np.max(sample_1),np.min(sample_1))"
   ]
  },
  {
   "cell_type": "code",
   "execution_count": 23,
   "metadata": {},
   "outputs": [
    {
     "data": {
      "text/plain": [
       "0.5580395946282164"
      ]
     },
     "execution_count": 23,
     "metadata": {},
     "output_type": "execute_result"
    }
   ],
   "source": [
    "sample_1.mean()"
   ]
  },
  {
   "cell_type": "code",
   "execution_count": 26,
   "metadata": {},
   "outputs": [
    {
     "name": "stdout",
     "output_type": "stream",
     "text": [
      "[[1. 1. 1. 1.]\n",
      " [1. 0. 0. 0.]\n",
      " [1. 0. 0. 0.]\n",
      " [1. 1. 1. 1.]]\n"
     ]
    }
   ],
   "source": [
    "test_1 = np.ones((4,4))\n",
    "test_1[1:3,1:4] = 0\n",
    "print(test_1)"
   ]
  },
  {
   "cell_type": "markdown",
   "metadata": {},
   "source": [
    "# t17 感觉没啥用，不如写程序时遇到了再说"
   ]
  },
  {
   "cell_type": "code",
   "execution_count": 31,
   "metadata": {},
   "outputs": [
    {
     "name": "stdout",
     "output_type": "stream",
     "text": [
      "[[1. 1. 1. 1.]\n",
      " [1. 0. 0. 0.]\n",
      " [1. 0. 0. 0.]\n",
      " [1. 1. 1. 1.]]\n"
     ]
    }
   ],
   "source": [
    "# 扩展数组的边界\n",
    "print(test_1)\n",
    "# np.pad(test_1, (test_1.shape[0],test_1.shape[1]),mode='constant',constant_values=5)"
   ]
  },
  {
   "cell_type": "code",
   "execution_count": 35,
   "metadata": {},
   "outputs": [
    {
     "name": "stdout",
     "output_type": "stream",
     "text": [
      "False\n"
     ]
    },
    {
     "data": {
      "text/plain": [
       "True"
      ]
     },
     "execution_count": 35,
     "metadata": {},
     "output_type": "execute_result"
    }
   ],
   "source": [
    "\n",
    "print(0.3 == 3 * 0.1) # False  浮点数可以比大小，但相等要用math.isclose比较\n",
    "math.isclose(0.3,3*0.1)"
   ]
  },
  {
   "cell_type": "code",
   "execution_count": null,
   "metadata": {},
   "outputs": [],
   "source": []
  }
 ],
 "metadata": {
  "kernelspec": {
   "display_name": "Python 3",
   "language": "python",
   "name": "python3"
  },
  "language_info": {
   "codemirror_mode": {
    "name": "ipython",
    "version": 3
   },
   "file_extension": ".py",
   "mimetype": "text/x-python",
   "name": "python",
   "nbconvert_exporter": "python",
   "pygments_lexer": "ipython3",
   "version": "3.7.4"
  }
 },
 "nbformat": 4,
 "nbformat_minor": 2
}
