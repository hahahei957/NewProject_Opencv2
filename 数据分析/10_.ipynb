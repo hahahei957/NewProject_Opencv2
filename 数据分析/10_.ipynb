{
 "cells": [
  {
   "cell_type": "code",
   "execution_count": 2,
   "metadata": {},
   "outputs": [],
   "source": [
    "import pandas as pd       # 141\n",
    "from matplotlib import pyplot as plt\n",
    "file_path = r\"D:\\Users\\acer\\Desktop\\所有的文件\\python资料\\课件资料\\1-6\\数据分析资料\\day05\\code\\books.csv\""
   ]
  },
  {
   "cell_type": "code",
   "execution_count": 6,
   "metadata": {
    "scrolled": true
   },
   "outputs": [
    {
     "name": "stdout",
     "output_type": "stream",
     "text": [
      "   id  book_id  best_book_id  work_id  books_count       isbn        isbn13  \\\n",
      "0   1  2767052       2767052  2792775          272  439023483  9.780439e+12   \n",
      "1   2        3             3  4640799          491  439554934  9.780440e+12   \n",
      "\n",
      "                       authors  original_publication_year  \\\n",
      "0              Suzanne Collins                     2008.0   \n",
      "1  J.K. Rowling, Mary GrandPré                     1997.0   \n",
      "\n",
      "                             original_title  ... ratings_count  \\\n",
      "0                          The Hunger Games  ...       4780653   \n",
      "1  Harry Potter and the Philosopher's Stone  ...       4602479   \n",
      "\n",
      "  work_ratings_count  work_text_reviews_count  ratings_1  ratings_2  \\\n",
      "0            4942365                   155254      66715     127936   \n",
      "1            4800065                    75867      75504     101676   \n",
      "\n",
      "   ratings_3  ratings_4  ratings_5  \\\n",
      "0     560092    1481305    2706317   \n",
      "1     455024    1156318    3011543   \n",
      "\n",
      "                                           image_url  \\\n",
      "0  https://images.gr-assets.com/books/1447303603m...   \n",
      "1  https://images.gr-assets.com/books/1474154022m...   \n",
      "\n",
      "                                     small_image_url  \n",
      "0  https://images.gr-assets.com/books/1447303603s...  \n",
      "1  https://images.gr-assets.com/books/1474154022s...  \n",
      "\n",
      "[2 rows x 23 columns]\n",
      "<bound method DataFrame.info of          id  book_id  best_book_id   work_id  books_count        isbn  \\\n",
      "0         1  2767052       2767052   2792775          272   439023483   \n",
      "1         2        3             3   4640799          491   439554934   \n",
      "2         3    41865         41865   3212258          226   316015849   \n",
      "3         4     2657          2657   3275794          487    61120081   \n",
      "4         5     4671          4671    245494         1356   743273567   \n",
      "...     ...      ...           ...       ...          ...         ...   \n",
      "9995   9996  7130616       7130616   7392860           19   441019455   \n",
      "9996   9997   208324        208324   1084709           19  067973371X   \n",
      "9997   9998    77431         77431   2393986           60  039330762X   \n",
      "9998   9999  8565083       8565083  13433613            7    61711527   \n",
      "9999  10000     8914          8914     11817           31   375700455   \n",
      "\n",
      "            isbn13                      authors  original_publication_year  \\\n",
      "0     9.780439e+12              Suzanne Collins                     2008.0   \n",
      "1     9.780440e+12  J.K. Rowling, Mary GrandPré                     1997.0   \n",
      "2     9.780316e+12              Stephenie Meyer                     2005.0   \n",
      "3     9.780061e+12                   Harper Lee                     1960.0   \n",
      "4     9.780743e+12          F. Scott Fitzgerald                     1925.0   \n",
      "...            ...                          ...                        ...   \n",
      "9995  9.780441e+12                Ilona Andrews                     2010.0   \n",
      "9996  9.780680e+12               Robert A. Caro                     1990.0   \n",
      "9997  9.780393e+12              Patrick O'Brian                     1977.0   \n",
      "9998  9.780062e+12              Peggy Orenstein                     2011.0   \n",
      "9999  9.780376e+12                  John Keegan                     1998.0   \n",
      "\n",
      "                                         original_title  ... ratings_count  \\\n",
      "0                                      The Hunger Games  ...       4780653   \n",
      "1              Harry Potter and the Philosopher's Stone  ...       4602479   \n",
      "2                                              Twilight  ...       3866839   \n",
      "3                                 To Kill a Mockingbird  ...       3198671   \n",
      "4                                      The Great Gatsby  ...       2683664   \n",
      "...                                                 ...  ...           ...   \n",
      "9995                                         Bayou Moon  ...         17204   \n",
      "9996                                   Means of Ascent   ...         12582   \n",
      "9997                              The Mauritius Command  ...          9421   \n",
      "9998  Cinderella Ate My Daughter: Dispatches from th...  ...         11279   \n",
      "9999                                The First World War  ...          9162   \n",
      "\n",
      "     work_ratings_count  work_text_reviews_count  ratings_1  ratings_2  \\\n",
      "0               4942365                   155254      66715     127936   \n",
      "1               4800065                    75867      75504     101676   \n",
      "2               3916824                    95009     456191     436802   \n",
      "3               3340896                    72586      60427     117415   \n",
      "4               2773745                    51992      86236     197621   \n",
      "...                 ...                      ...        ...        ...   \n",
      "9995              18856                     1180        105        575   \n",
      "9996              12952                      395        303        551   \n",
      "9997              10733                      374         11        111   \n",
      "9998              11994                     1988        275       1002   \n",
      "9999               9700                      364        117        345   \n",
      "\n",
      "      ratings_3  ratings_4  ratings_5  \\\n",
      "0        560092    1481305    2706317   \n",
      "1        455024    1156318    3011543   \n",
      "2        793319     875073    1355439   \n",
      "3        446835    1001952    1714267   \n",
      "4        606158     936012     947718   \n",
      "...         ...        ...        ...   \n",
      "9995       3538       7860       6778   \n",
      "9996       1737       3389       6972   \n",
      "9997       1191       4240       5180   \n",
      "9998       3765       4577       2375   \n",
      "9999       2031       4138       3069   \n",
      "\n",
      "                                              image_url  \\\n",
      "0     https://images.gr-assets.com/books/1447303603m...   \n",
      "1     https://images.gr-assets.com/books/1474154022m...   \n",
      "2     https://images.gr-assets.com/books/1361039443m...   \n",
      "3     https://images.gr-assets.com/books/1361975680m...   \n",
      "4     https://images.gr-assets.com/books/1490528560m...   \n",
      "...                                                 ...   \n",
      "9995  https://images.gr-assets.com/books/1307445460m...   \n",
      "9996  https://s.gr-assets.com/assets/nophoto/book/11...   \n",
      "9997  https://images.gr-assets.com/books/1455373531m...   \n",
      "9998  https://images.gr-assets.com/books/1279214118m...   \n",
      "9999  https://images.gr-assets.com/books/1403194704m...   \n",
      "\n",
      "                                        small_image_url  \n",
      "0     https://images.gr-assets.com/books/1447303603s...  \n",
      "1     https://images.gr-assets.com/books/1474154022s...  \n",
      "2     https://images.gr-assets.com/books/1361039443s...  \n",
      "3     https://images.gr-assets.com/books/1361975680s...  \n",
      "4     https://images.gr-assets.com/books/1490528560s...  \n",
      "...                                                 ...  \n",
      "9995  https://images.gr-assets.com/books/1307445460s...  \n",
      "9996  https://s.gr-assets.com/assets/nophoto/book/50...  \n",
      "9997  https://images.gr-assets.com/books/1455373531s...  \n",
      "9998  https://images.gr-assets.com/books/1279214118s...  \n",
      "9999  https://images.gr-assets.com/books/1403194704s...  \n",
      "\n",
      "[10000 rows x 23 columns]>\n"
     ]
    }
   ],
   "source": [
    "# 读取数据\n",
    "df = pd.read_csv(file_path)\n",
    "print(df.head(2))\n",
    "print(df.info)"
   ]
  },
  {
   "cell_type": "code",
   "execution_count": 10,
   "metadata": {},
   "outputs": [
    {
     "name": "stdout",
     "output_type": "stream",
     "text": [
      "original_publication_year\n",
      "-1750.0    3.630000\n",
      "-762.0     4.030000\n",
      "-750.0     4.005000\n",
      "-720.0     3.730000\n",
      "-560.0     4.050000\n",
      "             ...   \n",
      " 2013.0    4.012297\n",
      " 2014.0    3.985378\n",
      " 2015.0    3.954641\n",
      " 2016.0    4.027576\n",
      " 2017.0    4.100909\n",
      "Name: average_rating, Length: 293, dtype: float64\n"
     ]
    }
   ],
   "source": [
    "# 使用分组之前，要先将数据中没有分类标签的数据除去\n",
    "data1 = df[pd.notnull(df[\"original_publication_year\"])]\n",
    "# 进行分组统计数据,得到不同年份书的平均评分情况\n",
    "grouped_rating_mean = data1.groupby(by=data1[\"original_publication_year\"])[\"average_rating\"].mean()\n",
    "print(grouped_rating_mean)"
   ]
  },
  {
   "cell_type": "code",
   "execution_count": 21,
   "metadata": {
    "scrolled": true
   },
   "outputs": [
    {
     "data": {
      "text/plain": [
       "<Figure size 1600x640 with 0 Axes>"
      ]
     },
     "execution_count": 21,
     "metadata": {},
     "output_type": "execute_result"
    },
    {
     "data": {
      "image/png": "[encoded data removed]",
      "text/plain": [
       "<Figure size 432x288 with 1 Axes>"
      ]
     },
     "metadata": {},
     "output_type": "display_data"
    },
    {
     "data": {
      "text/plain": [
       "<Figure size 1600x640 with 0 Axes>"
      ]
     },
     "metadata": {},
     "output_type": "display_data"
    }
   ],
   "source": [
    "# 画图呈现\n",
    "_x = grouped_rating_mean.index\n",
    "# _x = [int(i) for i in _x]\n",
    "_y = grouped_rating_mean.values\n",
    "plt.plot(range(len(_x)),_y,color=\"#76EE00\")    # 折线图\n",
    "# 通过astype来改变_x中的格式,比上面用循环来整，感觉要简洁一些（.astype是numpy中的，但在pandas中好像也可以）\n",
    "plt.xticks(range(len(_x))[::20],_x[::20].astype(int),rotation=45,color=\"#AFEEEE\")\n",
    "plt.figure(figsize=(20,8),dpi=80)             # 这句要放在最后面"
   ]
  },
  {
   "cell_type": "code",
   "execution_count": null,
   "metadata": {},
   "outputs": [],
   "source": []
  },
  {
   "cell_type": "code",
   "execution_count": null,
   "metadata": {},
   "outputs": [],
   "source": []
  },
  {
   "cell_type": "code",
   "execution_count": null,
   "metadata": {},
   "outputs": [],
   "source": []
  },
  {
   "cell_type": "code",
   "execution_count": null,
   "metadata": {},
   "outputs": [],
   "source": []
  },
  {
   "cell_type": "code",
   "execution_count": null,
   "metadata": {},
   "outputs": [],
   "source": []
  },
  {
   "cell_type": "code",
   "execution_count": null,
   "metadata": {},
   "outputs": [],
   "source": []
  },
  {
   "cell_type": "code",
   "execution_count": null,
   "metadata": {},
   "outputs": [],
   "source": []
  }
 ],
 "metadata": {
  "kernelspec": {
   "display_name": "Python 3",
   "language": "python",
   "name": "python3"
  },
  "language_info": {
   "codemirror_mode": {
    "name": "ipython",
    "version": 3
   },
   "file_extension": ".py",
   "mimetype": "text/x-python",
   "name": "python",
   "nbconvert_exporter": "python",
   "pygments_lexer": "ipython3",
   "version": "3.7.4"
  }
 },
 "nbformat": 4,
 "nbformat_minor": 2
}
